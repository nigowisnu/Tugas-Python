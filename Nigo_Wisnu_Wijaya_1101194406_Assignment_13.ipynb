{
  "nbformat": 4,
  "nbformat_minor": 0,
  "metadata": {
    "colab": {
      "name": "Nigo Wisnu Wijaya_1101194406_Assignment 13",
      "provenance": [],
      "include_colab_link": true
    },
    "kernelspec": {
      "name": "python3",
      "display_name": "Python 3"
    }
  },
  "cells": [
    {
      "cell_type": "markdown",
      "metadata": {
        "id": "view-in-github",
        "colab_type": "text"
      },
      "source": [
        "<a href=\"https://colab.research.google.com/github/nigowisnu/Tugas-Python/blob/main/Nigo_Wisnu_Wijaya_1101194406_Assignment_13.ipynb\" target=\"_parent\"><img src=\"https://colab.research.google.com/assets/colab-badge.svg\" alt=\"Open In Colab\"/></a>"
      ]
    },
    {
      "cell_type": "code",
      "metadata": {
        "id": "yupp8nFF6SRK"
      },
      "source": [
        "# Import necessary library to create a plot\r\n",
        "import numpy as np \r\n",
        "import matplotlib.pyplot as plt"
      ],
      "execution_count": null,
      "outputs": []
    },
    {
      "cell_type": "markdown",
      "metadata": {
        "id": "m06s5Jvu7m3N"
      },
      "source": [
        "Assigning **PATHLOSS MODEL COST 231** function\r\n",
        "\r\n"
      ]
    },
    {
      "cell_type": "code",
      "metadata": {
        "id": "qjdF26K86zhB"
      },
      "source": [
        "def pathloss(fq,types,ht,hr,d):\r\n",
        "\r\n",
        "  # If frequency is define by the range number in MHz then will result to assigned Ca and Cb values\r\n",
        "  if fq in range(150,1501):\r\n",
        "    Ca=69.55\r\n",
        "    Cb=26.16\r\n",
        "  elif fq in range(1501,2001):\r\n",
        "    Ca=46.3\r\n",
        "    Cb=33.9\r\n",
        "  else:\r\n",
        "    Ca = print(\"The given frequency does not meet the C1 criteria.\")\r\n",
        "    Cb = print(\"The given frequency does not meet the C2 criteria.\")\r\n",
        "    return Ca,Cb\r\n",
        "  \r\n",
        "  # Based on area type\r\n",
        "  if types == 'urban' :\r\n",
        "    cm=0\r\n",
        "  elif types == 'suburban' :\r\n",
        "    cm=-2*((np.log10((fq/28)**2))-5.4)\r\n",
        "  elif types == 'open':\r\n",
        "    cm=-4.78*(np.log10(fq))+18.33*(np.log10(fq))-40.94\r\n",
        "  else:\r\n",
        "    cm=print('The given area type(s) is not suitable for this parameter')\r\n",
        "  \r\n",
        "  # a(hr) value is\r\n",
        "  ahr = (1.1*np.log10(fq)-0.7)*hr-(1.56*np.log10(fq)-1.8)\r\n",
        "\r\n",
        "  # Calculating Path Loss Model\r\n",
        "  Lp = Ca+(Cb*np.log10(fq))-(13.83*np.log10(ht))-ahr+((44.9-6.55*np.log10(ht))*np.log10(d))-cm\r\n",
        "  return Lp"
      ],
      "execution_count": null,
      "outputs": []
    },
    {
      "cell_type": "code",
      "metadata": {
        "colab": {
          "base_uri": "https://localhost:8080/"
        },
        "id": "bu0BDGhx_6x-",
        "outputId": "33994dd7-950c-40a1-d827-707a236c10b7"
      },
      "source": [
        "# Calculating the Pathloss Model Cost 231 for 1800 MHz in Urban Area\r\n",
        "\r\n",
        "# fq is the frequency in range of 150 to 2000 MHz\r\n",
        "# ht is the height of antenna transmitter in range of 30 to 200 m\r\n",
        "# hr is the height of antenna receiver in range of 1 to 20 m\r\n",
        "# types is the type of area given\r\n",
        "# d is the distance between the transmitter and receiver in m\r\n",
        "\r\n",
        "f=1800 #in Mhz\r\n",
        "loc='urban'\r\n",
        "tower=80 #in m\r\n",
        "user=1.5 #in m\r\n",
        "dmin=200 #in m\r\n",
        "dmax=700 #in m\r\n",
        "N=200 #dots\r\n",
        "d=np.random.randint(dmin,dmax,N)\r\n",
        "\r\n",
        "# Print the randon integer of Urban area distance input\r\n",
        "print(d) "
      ],
      "execution_count": null,
      "outputs": [
        {
          "output_type": "stream",
          "text": [
            "[478 650 374 430 359 504 222 401 549 634 693 327 208 675 615 296 433 602\n",
            " 660 297 325 280 506 523 491 494 539 677 651 484 286 409 646 416 529 237\n",
            " 277 489 352 240 426 522 457 506 359 587 638 477 597 344 523 309 250 550\n",
            " 578 296 329 573 326 373 256 243 216 216 269 458 511 394 325 650 326 497\n",
            " 390 402 684 612 624 443 482 603 222 526 424 695 511 598 221 468 544 361\n",
            " 336 460 328 440 640 634 693 384 337 569 406 356 620 251 458 237 672 454\n",
            " 577 295 229 577 565 669 273 644 680 507 469 358 474 526 316 655 686 225\n",
            " 637 467 537 340 665 694 650 219 327 659 484 676 210 538 277 450 249 396\n",
            " 510 412 425 266 560 243 348 418 564 664 216 438 220 368 672 598 342 234\n",
            " 323 677 270 518 567 243 218 436 238 531 438 499 222 525 344 418 425 491\n",
            " 455 370 580 681 298 623 337 477 387 285 319 205 490 555 639 462 421 268\n",
            " 683 438]\n"
          ],
          "name": "stdout"
        }
      ]
    },
    {
      "cell_type": "code",
      "metadata": {
        "colab": {
          "base_uri": "https://localhost:8080/"
        },
        "id": "StVU5hWUCoKV",
        "outputId": "2dbdf06b-0f67-42eb-e9b5-39195b1aca4f"
      },
      "source": [
        "# Define a Pathloss Model Cost 231 for Urban Area by the given input\r\n",
        "LpUrban=pathloss(f,loc,tower,user,d)\r\n",
        "\r\n",
        "# Print the random integer of Lp Urban area Model\r\n",
        "print(LpUrban)"
      ],
      "execution_count": null,
      "outputs": [
        {
          "output_type": "stream",
          "text": [
            "[216.19763121 220.52720015 212.74150331 214.70694774 212.16490559\n",
            " 216.94371633 205.39442585 213.72339337 218.14840198 220.1761231\n",
            " 221.42953123 210.84978322 204.47685817 221.05881937 219.74752556\n",
            " 209.44678386 214.80488258 219.44657559 220.74226139 209.4942923\n",
            " 210.76336431 208.66401374 216.99950348 217.46498031 216.57561279\n",
            " 216.66141755 217.88945649 221.10049466 220.54885463 216.37334539\n",
            " 208.96267307 214.00164909 220.44024779 214.24069401 217.62566156\n",
            " 206.31542293 208.51227542 216.51811786 211.88753049 206.49261064\n",
            " 214.5752997  217.43802099 215.564774   216.99950348 212.16490559\n",
            " 219.09114284 220.26471608 216.16813122 219.3290917  211.56369467\n",
            " 217.46498031 210.05223602 207.06763896 218.17403663 218.87349707\n",
            " 209.44678386 210.93567517 218.7511137  210.80664003 212.70378913\n",
            " 207.40171558 206.66759721 205.00847739 205.00847739 208.09946236\n",
            " 215.59556361 217.13801234 213.47532743 210.76336431 220.52720015\n",
            " 210.80664003 216.7467028  213.33158907 213.75847742 221.24539478\n",
            " 219.67864407 219.95217184 215.12650015 216.3150172  219.46995525\n",
            " 205.39442585 217.54555004 214.50901141 221.4701256  217.13801234\n",
            " 219.352667   205.33083099 215.89981383 218.01952425 212.24316267\n",
            " 211.2322385  215.65694164 210.89279466 215.03078356 220.30880449\n",
            " 220.1761231  221.42953123 213.11319341 211.27409956 218.65243562\n",
            " 213.89794626 212.04669871 219.86158479 207.12387152 215.59556361\n",
            " 206.31542293 220.99607433 215.47199933 218.84910531 209.39911465\n",
            " 205.83172777 218.84910531 218.5530614  220.93304856 208.30738108\n",
            " 220.3965695  221.16277732 217.02731442 215.92988051 212.12561341\n",
            " 216.07925877 217.54555004 210.36778094 220.63514119 221.28652251\n",
            " 205.58350571 220.24262001 215.86968282 217.83709124 211.39894148\n",
            " 220.84857312 221.44984304 220.52720015 205.20277341 210.84978322\n",
            " 220.72090242 216.37334539 221.07967243 204.61165573 217.8632982\n",
            " 208.51227542 215.34734154 207.01118101 213.54665031 217.11041931\n",
            " 214.10459403 214.54219455 207.94148421 218.42784958 206.66759721\n",
            " 211.72654316 214.30825403 218.52810792 220.82737486 205.00847739\n",
            " 214.96660924 205.26694772 212.51368857 220.99607433 219.352667\n",
            " 211.48155894 206.13597799 210.67641195 221.10049466 208.15173046\n",
            " 217.32966478 218.60283614 206.66759721 205.13830539 214.90214122\n",
            " 206.37473349 217.67881724 214.96660924 216.80327411 205.39442585\n",
            " 217.51874464 211.56369467 214.30825403 214.54219455 216.57561279\n",
            " 215.50299216 212.59003693 218.92215424 221.18347715 209.54164104\n",
            " 219.92957963 211.27409956 216.16813122 213.22281449 208.91333419\n",
            " 210.50088024 204.27221189 216.54689466 218.30151476 220.28677753\n",
            " 215.7180534  214.40899036 208.04699959 221.2247858  214.96660924]\n"
          ],
          "name": "stdout"
        }
      ]
    },
    {
      "cell_type": "code",
      "metadata": {
        "colab": {
          "base_uri": "https://localhost:8080/"
        },
        "id": "bIEnSD6VH9Yh",
        "outputId": "f7463ccc-9aea-4a73-9b41-7f672bdc0d26"
      },
      "source": [
        "# Calculating the Pathloss Model Cost 231 for 1800 MHz in Sub Urban Area\r\n",
        "\r\n",
        "# fq is the frequency in range of 150 to 2000 MHz\r\n",
        "# ht is the height of antenna transmitter in range of 30 to 200 m\r\n",
        "# hr is the height of antenna receiver in range of 1 to 20 m\r\n",
        "# types is the type of area given\r\n",
        "# d is the distance between the transmitter and receiver in m\r\n",
        "\r\n",
        "f2=1800 #in Mhz\r\n",
        "loc2='suburban'\r\n",
        "tower2=80 #in m\r\n",
        "user2=1.5 #in m\r\n",
        "dmin2=200 #in m\r\n",
        "dmax2=700 #in m\r\n",
        "N2=200 #dots\r\n",
        "d2=np.random.randint(dmin2,dmax2,N2)\r\n",
        "\r\n",
        "# Print the randon integer of Sub Urban area distance input\r\n",
        "print(d2) "
      ],
      "execution_count": null,
      "outputs": [
        {
          "output_type": "stream",
          "text": [
            "[242 580 360 454 277 507 275 623 623 426 449 584 617 324 250 258 394 373\n",
            " 563 673 626 502 288 345 321 432 587 235 343 249 259 616 531 260 256 630\n",
            " 295 510 462 220 420 615 224 414 247 511 416 552 409 361 300 376 552 540\n",
            " 605 340 275 574 351 423 272 404 327 374 406 286 679 230 662 355 547 260\n",
            " 318 628 474 485 266 685 558 375 271 629 535 662 286 626 318 410 460 448\n",
            " 506 618 374 239 540 391 276 524 216 410 402 573 363 224 313 426 649 524\n",
            " 661 536 670 399 231 678 474 653 305 625 234 287 639 308 362 556 513 456\n",
            " 515 315 251 452 601 448 219 238 561 521 254 245 623 225 283 682 441 365\n",
            " 516 410 469 346 212 244 501 496 583 421 455 467 455 660 203 497 456 348\n",
            " 598 604 388 504 301 486 392 373 496 512 394 334 475 559 523 588 265 303\n",
            " 390 618 328 634 615 527 389 321 330 205 656 642 600 251 651 675 618 373\n",
            " 683 345]\n"
          ],
          "name": "stdout"
        }
      ]
    },
    {
      "cell_type": "code",
      "metadata": {
        "colab": {
          "base_uri": "https://localhost:8080/"
        },
        "id": "Yaww8zS8IPkO",
        "outputId": "684385a3-0507-4de4-af7f-a16267e57363"
      },
      "source": [
        "# Define a Pathloss Model Cost 231 for Sub Urban Area by the given input\r\n",
        "LpSuburban=pathloss(f2,loc2,tower2,user2,d2)\r\n",
        "\r\n",
        "# Print the random integer of Lp Sub Urban area Model\r\n",
        "print(LpSuburban)"
      ],
      "execution_count": null,
      "outputs": [
        {
          "output_type": "stream",
          "text": [
            "[203.04196745 215.35461214 208.63654637 211.90445722 204.94473332\n",
            " 213.45977231 204.84265868 216.36203752 216.36203752 211.0077576\n",
            " 211.74846186 215.45142515 216.22571803 207.15241312 203.50009685\n",
            " 203.94379456 209.90778533 209.13624703 214.93556805 217.44947831\n",
            " 216.42970573 213.32016525 205.4932933  208.03704153 207.0213774\n",
            " 211.20477113 215.52360073 202.62850522 207.95514457 203.44363891\n",
            " 203.99828684 216.2028693  214.11127514 204.05256913 203.83417348\n",
            " 216.51942729 205.83157255 213.5428772  212.15051129 201.69940561\n",
            " 210.80794946 216.17998345 201.95321856 210.60526629 203.3300396\n",
            " 213.57047023 210.6731519  214.6576243  210.43410698 208.67562056\n",
            " 206.06832161 209.24908798 214.6576243  214.3480242  215.94905636\n",
            " 207.83139937 204.84265868 215.20813348 208.27991371 210.9082078\n",
            " 204.6881463  210.26084234 207.28224111 209.17396121 210.33040415\n",
            " 205.39513097 217.57450491 202.3255637  217.2173403  208.43953284\n",
            " 214.52945019 204.05256913 206.88911129 216.47463794 212.51171666\n",
            " 212.83487706 204.3739421  217.69843155 214.80990943 209.21157468\n",
            " 204.63626323 216.49705042 214.21698848 217.2173403  205.39513097\n",
            " 216.42970573 206.88911129 210.46850563 212.08939954 211.7170544\n",
            " 213.43196137 216.24852976 209.17396121 202.86625327 214.3480242\n",
            " 209.80011929 204.89378846 213.92434602 201.44093529 210.46850563\n",
            " 210.19093531 215.18357159 208.75344528 201.95321856 206.66586989\n",
            " 211.0077576  216.93797022 213.92434602 217.19604591 214.24329332\n",
            " 217.38654639 210.08541993 202.38667546 217.55374405 212.51171666\n",
            " 217.02452188 206.30115728 216.40718576 202.56843588 205.44429764\n",
            " 216.71923543 206.43903347 208.71458667 214.75933043 213.62549467\n",
            " 211.96637485 213.680305   206.75559145 203.55632941 211.84226623\n",
            " 215.85561497 211.7170544  201.6352313  202.80719139 214.88543903\n",
            " 213.84346788 203.72369262 203.21551672 216.36203752 202.0159636\n",
            " 205.24659281 217.63660451 211.4952193  208.83084238 213.7076304\n",
            " 210.46850563 212.36233841 208.07781214 201.17763346 203.15790421\n",
            " 213.29207703 213.15078961 215.4272842  210.84144826 211.93545006\n",
            " 212.30214072 211.93545006 217.17471928 200.56656831 213.17916069\n",
            " 211.96637485 208.15900106 215.78512489 215.92575406 209.69162399\n",
            " 213.37617422 206.11519765 212.86389095 209.83609949 209.13624703\n",
            " 213.15078961 213.59800932 209.90778533 207.5805992  212.54140316\n",
            " 214.83513099 213.8974382  215.54757731 204.32088653 206.20848433\n",
            " 209.76404696 216.24852976 207.32525256 216.60858099 216.17998345\n",
            " 214.00476244 209.72788202 207.0213774  207.41088344 200.70466979\n",
            " 217.08908839 216.78521324 215.83215745 203.55632941 216.98131252\n",
            " 217.49127727 216.24852976 209.13624703 217.65724369 208.03704153]\n"
          ],
          "name": "stdout"
        }
      ]
    },
    {
      "cell_type": "code",
      "metadata": {
        "colab": {
          "base_uri": "https://localhost:8080/"
        },
        "id": "K0CERbZlJJZE",
        "outputId": "6802b9d6-9ebe-4612-ea72-de64eb3a2d1b"
      },
      "source": [
        "# Calculating the Pathloss Model Cost 231 for 1800 MHz in Open Area\r\n",
        "\r\n",
        "# fq is the frequency in range of 150 to 2000 MHz\r\n",
        "# ht is the height of antenna transmitter in range of 30 to 200 m\r\n",
        "# hr is the height of antenna receiver in range of 1 to 20 m\r\n",
        "# types is the type of area given\r\n",
        "# d is the distance between the transmitter and receiver in m\r\n",
        "\r\n",
        "f3=1800 #in Mhz\r\n",
        "loc3='open'\r\n",
        "tower3=80 #in m\r\n",
        "user3=1.5 #in m\r\n",
        "dmin3=200 #in m\r\n",
        "dmax3=700 #in m\r\n",
        "N3=200 #dots\r\n",
        "d3=np.random.randint(dmin2,dmax2,N2)\r\n",
        "\r\n",
        "# Print the randon integer of Open area distance input\r\n",
        "print(d3) "
      ],
      "execution_count": null,
      "outputs": [
        {
          "output_type": "stream",
          "text": [
            "[600 587 644 302 217 329 557 375 593 457 628 270 274 575 339 513 373 615\n",
            " 401 340 480 240 347 577 583 236 329 220 686 444 603 692 211 482 550 501\n",
            " 464 270 524 445 624 676 684 224 398 325 428 590 435 490 245 669 273 575\n",
            " 272 592 301 268 663 599 642 468 264 279 445 243 227 495 381 607 256 472\n",
            " 659 630 487 531 493 205 548 322 398 507 633 451 406 342 469 338 407 217\n",
            " 361 541 396 285 572 641 410 381 358 543 399 385 550 570 503 311 500 638\n",
            " 262 216 423 497 600 217 297 363 555 684 465 472 663 552 268 456 365 484\n",
            " 607 543 278 308 461 565 481 333 576 441 598 203 477 297 225 542 696 295\n",
            " 303 433 695 221 688 287 512 671 650 280 215 676 668 391 254 257 655 627\n",
            " 221 252 608 365 507 628 304 395 567 515 454 333 593 543 651 607 239 312\n",
            " 317 631 381 676 423 680 413 523 663 370 502 493 263 287 371 424 254 318\n",
            " 473 365]\n"
          ],
          "name": "stdout"
        }
      ]
    },
    {
      "cell_type": "code",
      "metadata": {
        "colab": {
          "base_uri": "https://localhost:8080/"
        },
        "id": "q2076hTyJXOG",
        "outputId": "9eb0fe2c-e84b-4e49-bc57-86353510d2af"
      },
      "source": [
        "# Define a Pathloss Model Cost 231 for Open Area by the given input\r\n",
        "LpOpen=pathloss(f3,loc3,tower3,user3,d3)\r\n",
        "\r\n",
        "# Print the randon integer of Lp Open area Model\r\n",
        "print(LpOpen)"
      ],
      "execution_count": null,
      "outputs": [
        {
          "output_type": "stream",
          "text": [
            "[216.23075711 215.92220039 217.22762705 206.56051788 201.90459852\n",
            " 207.76673273 215.18324229 209.61017434 216.0654515  212.39583156\n",
            " 216.8732376  204.98278802 205.1899423  215.63125227 208.18850788\n",
            " 214.02409433 209.53484669 216.57858312 210.55445093 208.22999903\n",
            " 213.08750404 203.3236682  208.51706476 215.68016287 215.82588386\n",
            " 203.08691914 207.76673273 202.09800528 218.11758007 211.98931925\n",
            " 216.3010128  218.24024764 201.5096314  213.14607476 215.00509418\n",
            " 213.69067669 212.60995873 204.98278802 214.32294568 212.02100933\n",
            " 216.78322939 217.91072999 218.07645234 202.35181822 210.44867143\n",
            " 207.59442186 211.47233507 215.99400805 211.70085379 213.37795222\n",
            " 203.61411638 217.76410611 205.13843864 215.63125227 205.08674596\n",
            " 216.04167726 206.51379731 204.87805715 217.63720222 216.20726046\n",
            " 217.1838129  212.73087138 204.66623003 205.44467325 212.02100933\n",
            " 203.49865477 202.53922104 213.52096093 209.83377011 216.39414529\n",
            " 204.23277314 212.85075498 217.55195997 216.91802695 213.29144486\n",
            " 214.5098748  213.46393155 201.10326945 214.95377814 207.46379121\n",
            " 210.44867143 213.85837198 216.98494507 212.20966712 210.72900381\n",
            " 208.3126165  212.76093807 208.14689415 210.76365632 201.90459852\n",
            " 209.07422022 214.77268536 210.37770786 205.74439174 215.55756647\n",
            " 217.16185462 210.86710529 209.83377011 208.95667097 214.82466415\n",
            " 210.48401959 209.9808862  215.00509418 215.50822758 213.74679723\n",
            " 206.97417285 213.66253235 217.09577363 204.55910984 201.83953495\n",
            " 211.30680746 213.57776035 216.23075711 201.90459852 206.32534985\n",
            " 209.15204494 215.13257232 218.07645234 212.64028433 212.85075498\n",
            " 217.63720222 215.05622396 204.87805715 212.36497451 209.22944204\n",
            " 213.20440295 216.39414529 214.82466415 205.39409425 206.83763313\n",
            " 212.51858822 215.38411896 213.11681984 207.93696124 215.6557288\n",
            " 211.89381896 216.18372455 200.96516797 212.99918878 206.32534985\n",
            " 202.41456326 214.79869873 218.32143656 206.23017221 206.60708399\n",
            " 211.63594014 218.30118316 202.16188855 218.15858807 205.8428973\n",
            " 213.99660898 217.80615462 217.3582577  205.49507129 201.77416946\n",
            " 217.91072999 217.7430347  210.19871895 204.12229228 204.28769031\n",
            " 217.46619875 216.85078941 202.16188855 204.01093804 216.41733252\n",
            " 209.22944204 213.85837198 216.8732376  206.65349668 210.34209157\n",
            " 215.4338937  214.07890466 212.30305688 207.93696124 216.0654515\n",
            " 214.82466415 217.37991218 216.39414529 203.26485293 207.01939355\n",
            " 207.24334481 216.94036833 209.83377011 217.91072999 211.30680746\n",
            " 217.99383487 210.96980006 214.29603786 217.63720222 209.42109449\n",
            " 213.71876491 213.46393155 204.61277176 205.8428973  209.45911405\n",
            " 211.34006896 204.12229228 207.28771095 212.88056713 209.22944204]\n"
          ],
          "name": "stdout"
        }
      ]
    },
    {
      "cell_type": "code",
      "metadata": {
        "id": "EpwTBu87DIER"
      },
      "source": [
        "d_sort=d[np.argsort(d)]\r\n",
        "Urban_sort=LpUrban[np.argsort(d)]\r\n",
        "\r\n",
        "d2_sort=d2[np.argsort(d2)]\r\n",
        "Suburban_sort=LpSuburban[np.argsort(d2)]\r\n",
        "\r\n",
        "d3_sort=d3[np.argsort(d3)]\r\n",
        "Open_sort=LpOpen[np.argsort(d3)]"
      ],
      "execution_count": null,
      "outputs": []
    },
    {
      "cell_type": "code",
      "metadata": {
        "colab": {
          "base_uri": "https://localhost:8080/",
          "height": 295
        },
        "id": "Apyl-W_MGNPQ",
        "outputId": "226ff2ea-ced5-491e-95b8-cf3db0c64a77"
      },
      "source": [
        "fig, ax = plt.subplots()\r\n",
        "ax.plot(d_sort,Urban_sort, color='b', label='Urban')\r\n",
        "ax.plot(d2_sort,Suburban_sort, color='r', label='Sub Urban')\r\n",
        "ax.plot(d3_sort,Open_sort, color='g', label='Open')\r\n",
        "ax.set_title('Frequency of 1800 MHz based on Type Area given')\r\n",
        "ax.set_xlabel('Distance (m)')\r\n",
        "ax.set_ylabel('Pathloss (dB)')\r\n",
        "ax.legend(loc='upper left')\r\n",
        "plt.show()"
      ],
      "execution_count": null,
      "outputs": [
        {
          "output_type": "display_data",
          "data": {
            "image/png": "[encoded data removed]",
            "text/plain": [
              "<Figure size 432x288 with 1 Axes>"
            ]
          },
          "metadata": {
            "tags": [],
            "needs_background": "light"
          }
        }
      ]
    },
    {
      "cell_type": "code",
      "metadata": {
        "id": "8h3mfJfbGnVm",
        "colab": {
          "base_uri": "https://localhost:8080/"
        },
        "outputId": "adab0b2d-e9e6-4a4e-cd63-188d9dc99d6e"
      },
      "source": [
        "# Calculating the Pathloss Model Cost 231 for 700 MHz in Urban Area\r\n",
        "\r\n",
        "# fq is the frequency in range of 150 to 2000 MHz\r\n",
        "# ht is the height of antenna transmitter in range of 30 to 200 m\r\n",
        "# hr is the height of antenna receiver in range of 1 to 20 m\r\n",
        "# types is the type of area given\r\n",
        "# d is the distance between the transmitter and receiver in m\r\n",
        "\r\n",
        "f4=700 #in Mhz\r\n",
        "loc4='urban'\r\n",
        "tower4=80 #in m\r\n",
        "user4=1.5 #in m\r\n",
        "dmin4=200 #in m\r\n",
        "dmax4=700 #in m\r\n",
        "N4=200 #dots\r\n",
        "d4=np.random.randint(dmin2,dmax2,N2)\r\n",
        "\r\n",
        "# Print the randon integer of 700 MHz Urban area distance input\r\n",
        "print(d4) "
      ],
      "execution_count": null,
      "outputs": [
        {
          "output_type": "stream",
          "text": [
            "[622 581 363 282 587 402 681 563 587 488 574 506 489 566 446 250 447 690\n",
            " 217 262 272 524 219 506 630 455 453 218 323 232 230 418 395 311 689 629\n",
            " 617 496 226 667 517 620 501 304 627 660 546 232 662 246 527 478 658 291\n",
            " 261 254 571 681 308 633 301 377 583 480 228 253 617 629 305 231 560 429\n",
            " 231 334 207 640 419 609 609 204 539 472 675 248 693 393 266 358 251 285\n",
            " 310 390 551 660 345 440 273 320 553 224 415 624 628 385 369 672 391 617\n",
            " 551 460 420 297 408 258 662 289 230 416 664 215 651 677 492 440 489 692\n",
            " 627 598 404 361 671 573 543 415 374 552 233 321 352 615 544 340 536 584\n",
            " 650 627 234 368 689 398 642 697 622 259 325 569 428 561 542 483 291 433\n",
            " 203 274 645 448 423 428 601 297 533 605 319 662 614 396 421 606 202 360\n",
            " 298 535 673 248 304 690 229 637 229 429 683 480 200 295 527 621 626 280\n",
            " 418 511]\n"
          ],
          "name": "stdout"
        }
      ]
    },
    {
      "cell_type": "code",
      "metadata": {
        "colab": {
          "base_uri": "https://localhost:8080/"
        },
        "id": "xZwFZHnXcFi6",
        "outputId": "6514a422-9a96-440c-d499-b90724802611"
      },
      "source": [
        "# Define a Pathloss Model Cost 231 for Open Area by the given input\r\n",
        "LpUrbanFQ1=pathloss(f4,loc4,tower4,user4,d4)\r\n",
        "\r\n",
        "# Print the randon integer of Lp Open area Model\r\n",
        "print(LpUrbanFQ1)"
      ],
      "execution_count": null,
      "outputs": [
        {
          "output_type": "stream",
          "text": [
            "[207.26789364 206.30736245 199.68192989 196.12521459 206.45208534\n",
            " 201.11941992 208.54441966 205.86405266 206.45208534 203.85022466\n",
            " 206.13661809 204.36044598 203.87906037 205.93891326 202.58251324\n",
            " 194.42858146 202.61406137 208.72936198 192.43448347 195.08899479\n",
            " 195.61663091 204.85283063 192.56371591 204.36044598 207.4479119\n",
            " 202.86393467 202.80188066 192.49924789 198.03735445 193.37600784\n",
            " 193.25404831 201.66919653 200.87197652 197.5040578  208.70893233\n",
            " 207.42553503 207.15420264 204.07927422 193.006915   208.25181667\n",
            " 204.6633875  207.22252729 204.22056164 197.18338163 207.38067436\n",
            " 208.10320389 205.43215942 193.37600784 208.14582492 194.20137916\n",
            " 204.93324705 203.55857372 208.06045352 196.56775059 195.03512766\n",
            " 194.65217723 206.06280357 208.54441966 197.36751808 207.51483002\n",
            " 197.04368226 200.21498626 206.35576881 203.61738899 193.13102362\n",
            " 194.59661014 207.15420264 207.42553503 197.22964189 193.31516007\n",
            " 205.78879208 202.03509341 193.31516007 198.50908381 191.76991506\n",
            " 207.669747   201.70285542 206.97036659 206.97036659 191.5642729\n",
            " 205.250399   203.38063993 208.41976188 194.31543838 208.79047373\n",
            " 200.80047262 195.30242671 199.48655591 194.48481402 196.27427669\n",
            " 197.45869145 200.69253157 205.56056722 208.10320389 198.96552614\n",
            " 202.39172606 195.66832359 197.90591116 205.61160437 192.88170317\n",
            " 201.5677346  207.31311434 207.40312255 200.51077115 199.91285699\n",
            " 208.35701684 200.7286039  207.15420264 205.56056722 203.01788415\n",
            " 201.73643407 196.8552348  201.32810874 194.87227917 208.14582492\n",
            " 196.47060374 193.25404831 201.60163651 208.18831737 192.30405441\n",
            " 207.90979713 208.46143717 203.965215   202.39172606 203.87906037\n",
            " 208.77013259 207.38067436 206.7136095  201.18932695 199.60410517\n",
            " 208.33603957 206.1120562  205.3545491  201.5677346  200.10244582\n",
            " 205.58610891 193.4365939  197.94986201 199.24847299 207.10846807\n",
            " 205.38046675 198.75988398 205.17177793 206.37990976 207.88814265\n",
            " 207.38067436 193.49692049 199.87463108 208.70893233 200.97855638\n",
            " 207.71369785 208.87154583 207.26789364 194.92677145 198.12430681\n",
            " 206.01337813 202.00222002 205.81392365 205.32858368 203.70515399\n",
            " 196.56775059 202.16582509 191.49505292 195.71982725 207.77936808\n",
            " 202.64553901 201.83669241 202.00222002 206.78409958 196.8552348\n",
            " 205.09271559 206.87754097 197.86182274 208.14582492 207.08554497\n",
            " 200.90759281 201.76993287 206.90080478 191.42549112 199.56503098\n",
            " 196.90258354 205.14547309 208.37796292 194.31543838 197.18338163\n",
            " 208.72936198 193.19267027 207.60356252 193.19267027 202.03509341\n",
            " 208.5857283  203.61738899 191.28532839 196.76005716 204.93324705\n",
            " 207.24522873 207.35819034 196.02495624 201.66919653 204.49895484]\n"
          ],
          "name": "stdout"
        }
      ]
    },
    {
      "cell_type": "code",
      "metadata": {
        "colab": {
          "base_uri": "https://localhost:8080/"
        },
        "id": "fi4o1h9OcOAH",
        "outputId": "a9a83ce9-682b-4b17-f969-a8aab645c0f2"
      },
      "source": [
        "# Calculating the Pathloss Model Cost 231 for 700 MHz in Urban Area\r\n",
        "\r\n",
        "# fq is the frequency in range of 150 to 2000 MHz\r\n",
        "# ht is the height of antenna transmitter in range of 30 to 200 m\r\n",
        "# hr is the height of antenna receiver in range of 1 to 20 m\r\n",
        "# types is the type of area given\r\n",
        "# d is the distance between the transmitter and receiver in m\r\n",
        "\r\n",
        "f5=900 #in Mhz\r\n",
        "loc5='urban'\r\n",
        "tower5=80 #in m\r\n",
        "user5=1.5 #in m\r\n",
        "dmin5=200 #in m\r\n",
        "dmax5=700 #in m\r\n",
        "N5=200 #dots\r\n",
        "d5=np.random.randint(dmin2,dmax2,N2)\r\n",
        "\r\n",
        "# Print the randon integer of 700 MHz Urban area distance input\r\n",
        "print(d5) "
      ],
      "execution_count": null,
      "outputs": [
        {
          "output_type": "stream",
          "text": [
            "[235 674 279 662 479 270 620 535 467 340 345 612 455 685 501 306 263 600\n",
            " 611 360 455 507 389 275 300 501 285 503 504 462 222 267 434 327 480 230\n",
            " 572 454 688 363 648 273 333 685 454 599 213 691 698 467 225 462 330 522\n",
            " 426 217 200 437 484 479 513 597 449 502 493 354 516 639 216 674 651 606\n",
            " 391 381 479 341 633 547 233 446 507 593 484 664 280 538 403 263 411 626\n",
            " 226 550 670 659 267 362 292 372 495 521 566 466 538 270 603 615 531 222\n",
            " 629 320 547 225 451 484 680 239 205 219 357 241 615 400 314 479 316 689\n",
            " 459 527 621 415 550 639 529 307 467 493 270 552 252 369 256 569 415 643\n",
            " 382 292 374 660 220 255 688 392 603 213 376 654 293 461 588 454 271 469\n",
            " 431 221 343 267 463 616 298 329 320 645 262 698 556 273 285 234 228 472\n",
            " 341 421 599 502 511 508 419 522 457 367 699 268 325 295 584 631 351 440\n",
            " 553 362]\n"
          ],
          "name": "stdout"
        }
      ]
    },
    {
      "cell_type": "code",
      "metadata": {
        "colab": {
          "base_uri": "https://localhost:8080/"
        },
        "id": "91QFv7Uucc9J",
        "outputId": "a5af3326-6ff2-4c6c-fb59-dad92b3e6658"
      },
      "source": [
        "# Define a Pathloss Model Cost 231 for Open Area by the given input\r\n",
        "LpUrbanFQ2=pathloss(f5,loc5,tower5,user5,d5)\r\n",
        "\r\n",
        "# Print the randon integer of Lp Open area Model\r\n",
        "print(LpUrbanFQ2)"
      ],
      "execution_count": null,
      "outputs": [
        {
          "output_type": "stream",
          "text": [
            "[196.40238615 211.24427422 198.81995452 210.99122123 206.43340837\n",
            " 198.35806929 210.06792361 207.99086941 206.07602165 201.6052803\n",
            " 201.81092246 209.88498289 205.70933098 211.47231248 207.06595796\n",
            " 200.12114705 197.98805303 209.60603838 209.86194734 202.4104273\n",
            " 205.70933098 207.23365324 203.50176295 198.61653961 199.84220254\n",
            " 207.06595796 199.11967301 207.1220785  207.15005515 205.92439222\n",
            " 195.60076468 198.20067952 205.04371562 201.05612204 206.46278531\n",
            " 196.09944463 208.93284773 205.67833815 211.53386933 202.5273262\n",
            " 210.69012988 198.5137199  201.3122425  211.47231248 205.67833815\n",
            " 209.58254173 195.01780269 211.59515835 211.73713747 206.07602165\n",
            " 195.78984453 205.92439222 201.18476437 207.64435982 204.78163853\n",
            " 195.27987979 194.13072471 205.14075094 206.57968421 206.43340837\n",
            " 207.3993756  209.53543052 205.52234278 207.09404618 206.83921282\n",
            " 202.17367824 207.48151132 210.49311636 195.21481622 211.24427422\n",
            " 210.75519345 209.7462011  203.57400022 203.20905138 206.43340837\n",
            " 201.6466496  210.36022634 208.30333112 196.28199022 205.42790955\n",
            " 207.23365324 209.44073277 206.57968421 211.03371369 198.87035256\n",
            " 208.06963702 203.99981312 197.98805303 204.2767014  210.20358666\n",
            " 195.85231132 208.38037545 211.16042732 210.92724124 198.20067952\n",
            " 202.48846759 199.46147024 202.87231253 206.8962422  207.61734881\n",
            " 208.78430958 206.04582606 208.06963702 198.35806929 209.67629407\n",
            " 209.95386438 207.88515606 195.60076468 210.27093135 200.75130748\n",
            " 208.30333112 195.78984453 205.58494839 206.57968421 211.36911614\n",
            " 196.64013419 194.47855072 195.40911223 202.29255014 196.75752019\n",
            " 209.95386438 203.89456055 200.48468303 206.43340837 200.57411976\n",
            " 211.55432865 205.83262488 207.77864336 210.09062505 204.41313092\n",
            " 208.38037545 210.49311636 207.83200039 200.16710545 206.07602165\n",
            " 206.83921282 198.35806929 208.43150523 197.38621931 202.7582533\n",
            " 197.60805441 208.85877445 204.41313092 210.58101828 203.24597469\n",
            " 199.46147024 202.94784213 210.94860021 195.47328654 197.55292229\n",
            " 211.53386933 203.60998041 209.67629407 195.01780269 203.02296891\n",
            " 210.81995788 199.50962836 205.89386949 209.32145824 205.67833815\n",
            " 198.41014416 206.13621934 204.94600723 195.53716982 201.7290255\n",
            " 198.20067952 205.95484897 209.97675023 199.74797986 201.142014\n",
            " 200.75130748 210.6247644  197.93439111 211.73713747 208.53321135\n",
            " 198.5137199  199.11967301 196.34231681 195.97641994 206.22603625\n",
            " 201.6466496  204.61532919 209.58254173 207.09404618 207.34435116\n",
            " 207.26140939 204.54825174 207.64435982 205.77111283 202.68169748\n",
            " 211.75730389 198.25333841 200.96970313 199.60545348 209.22530608\n",
            " 210.3156496  202.05379464 205.23712238 208.45700069 202.48846759]\n"
          ],
          "name": "stdout"
        }
      ]
    },
    {
      "cell_type": "code",
      "metadata": {
        "colab": {
          "base_uri": "https://localhost:8080/"
        },
        "id": "pEm63j3uciSF",
        "outputId": "4ec8d4f6-9aae-42ba-f4b3-8aaa790cf718"
      },
      "source": [
        "# Calculating the Pathloss Model Cost 231 for 700 MHz in Urban Area\r\n",
        "\r\n",
        "# fq is the frequency in range of 150 to 2000 MHz\r\n",
        "# ht is the height of antenna transmitter in range of 30 to 200 m\r\n",
        "# hr is the height of antenna receiver in range of 1 to 20 m\r\n",
        "# types is the type of area given\r\n",
        "# d is the distance between the transmitter and receiver in m\r\n",
        "\r\n",
        "f6=1800 #in Mhz\r\n",
        "loc6='urban'\r\n",
        "tower6=80 #in m\r\n",
        "user6=1.5 #in m\r\n",
        "dmin6=200 #in m\r\n",
        "dmax6=700 #in m\r\n",
        "N6=200 #dots\r\n",
        "d6=np.random.randint(dmin2,dmax2,N2)\r\n",
        "\r\n",
        "# Print the randon integer of 700 MHz Urban area distance input\r\n",
        "print(d6) "
      ],
      "execution_count": null,
      "outputs": [
        {
          "output_type": "stream",
          "text": [
            "[481 437 203 222 248 499 480 218 209 244 389 539 631 499 337 317 460 399\n",
            " 689 625 294 379 449 449 678 490 456 321 419 637 303 389 362 229 345 535\n",
            " 606 663 280 494 557 657 207 596 420 626 345 607 667 591 308 371 447 259\n",
            " 229 334 476 370 626 598 291 206 611 303 234 550 373 224 571 267 233 351\n",
            " 301 696 537 497 557 630 417 500 461 481 208 335 335 258 402 456 699 247\n",
            " 275 509 258 274 581 660 271 464 382 610 379 287 674 205 491 273 558 403\n",
            " 465 519 545 257 638 416 689 463 351 562 267 336 403 569 672 574 457 391\n",
            " 688 624 407 330 688 306 281 388 409 348 645 541 477 637 466 531 626 356\n",
            " 315 512 559 464 435 257 458 494 230 465 237 202 597 612 677 567 494 549\n",
            " 495 515 276 469 468 491 689 482 339 398 246 319 514 283 398 291 264 353\n",
            " 496 571 595 663 691 574 572 309 350 434 243 569 548 495 305 623 234 242\n",
            " 605 338]\n"
          ],
          "name": "stdout"
        }
      ]
    },
    {
      "cell_type": "code",
      "metadata": {
        "colab": {
          "base_uri": "https://localhost:8080/"
        },
        "id": "0COqwfm4c2Bi",
        "outputId": "06e8b1ff-7d6b-47c2-d65a-83691c39aa10"
      },
      "source": [
        "# Define a Pathloss Model Cost 231 for Open Area by the given input\r\n",
        "LpUrbanFQ3=pathloss(f6,loc6,tower6,user6,d6)\r\n",
        "\r\n",
        "# Print the randon integer of Lp Open area Model\r\n",
        "print(LpUrbanFQ3)"
      ],
      "execution_count": null,
      "outputs": [
        {
          "output_type": "stream",
          "text": [
            "[216.28576228 214.93441212 204.13411042 205.39442585 206.95449588\n",
            " 216.80327411 216.25644648 205.13830539 204.54441819 206.72544632\n",
            " 213.29542412 217.88945649 220.10931078 216.80327411 211.27409956\n",
            " 210.41228726 215.65694164 213.65296204 221.34798983 219.97472786\n",
            " 209.35128358 212.92857429 215.31600396 215.31600396 221.12128616\n",
            " 216.54689466 215.53391695 210.58891951 214.34191292 220.24262001\n",
            " 209.77602644 213.29542412 212.28212877 205.83172777 211.60458363\n",
            " 217.78453059 219.53986228 220.80614466 208.66401374 216.66141755\n",
            " 218.35218473 220.67808707 204.40897255 219.30547688 214.37549157\n",
            " 219.99724783 211.60458363 219.56308774 220.89087416 219.18680526\n",
            " 210.00657557 212.62805649 215.25311887 207.56582895 205.83172777\n",
            " 211.14814131 216.13856933 212.59003693 219.99724783 219.352667\n",
            " 209.20680808 204.3407582  219.65560851 209.77602644 206.13597799\n",
            " 218.17403663 212.70378913 205.52076067 218.70186107 207.9943407\n",
            " 206.0756514  211.84745582 209.68273976 221.490379   217.83709124\n",
            " 216.7467028  218.35218473 220.0869694  214.27451452 216.83147479\n",
            " 215.68753066 216.28576228 204.47685817 211.19025266 211.19025266\n",
            " 207.51133666 213.75847742 215.53391695 221.55096506 206.89758171\n",
            " 208.41020079 217.08277212 207.51133666 208.35888475 218.94641995\n",
            " 220.74226139 208.20380534 215.77890117 213.03963587 219.63253523\n",
            " 212.92857429 209.01183974 221.0379354  204.27221189 216.57561279\n",
            " 208.30738108 218.37745154 213.7934743  215.80922678 217.35683208\n",
            " 218.04539429 207.45663276 220.26471608 214.24069401 221.34798983\n",
            " 215.74851014 211.84745582 218.47806795 207.9943407  211.2322385\n",
            " 213.7934743  218.65243562 220.99607433 218.77567558 215.564774\n",
            " 213.3676614  221.32753051 219.95217184 213.93259877 210.97842555\n",
            " 221.32753051 209.91480823 208.71423211 213.25916609 214.00164909\n",
            " 211.72654316 220.41842557 217.9416278  216.16813122 220.24262001\n",
            " 215.83948723 217.67881724 219.99724783 212.04669871 210.32313356\n",
            " 217.16555142 218.4026731  215.77890117 214.86979623 207.45663276\n",
            " 215.59556361 216.66141755 205.89310581 215.80922678 206.31542293\n",
            " 204.06454861 219.3290917  219.67864407 221.10049466 218.60283614\n",
            " 216.66141755 218.14840198 216.68990338 217.2478471  208.46133056\n",
            " 215.92988051 215.89981383 216.57561279 221.34798983 216.3150172\n",
            " 211.35745032 213.61761387 206.84043665 210.50088024 217.2204686\n",
            " 208.81413492 213.61761387 209.20680808 207.83517248 211.92749147\n",
            " 216.71833172 218.70186107 219.2818224  220.80614466 221.38881953\n",
            " 218.77567558 218.72650891 210.05223602 211.80726681 214.8373768\n",
            " 206.66759721 218.65243562 218.12272059 216.68990338 209.86869939\n",
            " 219.92957963 206.13597799 206.60950955 219.51659846 211.31583659]\n"
          ],
          "name": "stdout"
        }
      ]
    },
    {
      "cell_type": "code",
      "metadata": {
        "id": "TOhKmYsec7Pn"
      },
      "source": [
        "d4_sort=d4[np.argsort(d4)]\r\n",
        "UrbanFQ_sort=LpUrbanFQ1[np.argsort(d4)]\r\n",
        "\r\n",
        "d5_sort=d5[np.argsort(d5)]\r\n",
        "UrbanFQ2_sort=LpUrbanFQ2[np.argsort(d5)]\r\n",
        "\r\n",
        "d6_sort=d6[np.argsort(d6)]\r\n",
        "UrbanFQ3_sort=LpUrbanFQ3[np.argsort(d6)]"
      ],
      "execution_count": null,
      "outputs": []
    },
    {
      "cell_type": "code",
      "metadata": {
        "colab": {
          "base_uri": "https://localhost:8080/",
          "height": 295
        },
        "id": "mj_Qjq0ddR4-",
        "outputId": "d357e280-c85b-43d5-9caf-8e9d9a880e3c"
      },
      "source": [
        "fig, ax = plt.subplots()\r\n",
        "ax.plot(d4_sort,UrbanFQ_sort, color='b', label='700 MHz')\r\n",
        "ax.plot(d5_sort,UrbanFQ2_sort, color='r', label='900 MHz')\r\n",
        "ax.plot(d6_sort,UrbanFQ3_sort, color='g', label='1800 MHz')\r\n",
        "ax.set_title('Urban Area Model based on Frequency Area given')\r\n",
        "ax.set_xlabel('Distance (m)')\r\n",
        "ax.set_ylabel('Pathloss (dB)')\r\n",
        "ax.legend(loc='upper left')\r\n",
        "plt.show()"
      ],
      "execution_count": null,
      "outputs": [
        {
          "output_type": "display_data",
          "data": {
            "image/png": "[encoded data removed]",
            "text/plain": [
              "<Figure size 432x288 with 1 Axes>"
            ]
          },
          "metadata": {
            "tags": [],
            "needs_background": "light"
          }
        }
      ]
    }
  ]
}